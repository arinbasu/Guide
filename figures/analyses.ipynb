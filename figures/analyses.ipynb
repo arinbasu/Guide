{
 "cells": [
  {
   "cell_type": "markdown",
   "metadata": {},
   "source": [
    "## Let's do data analysis\n",
    "\n",
    "In this notebook, we will do data analyses of the WHO data on environmental causes of diseases. We will specifically use a python environment to do the following:\n",
    "\n",
    "1. We will read a data set that the World Health Organisation put up on the web\n",
    "2. we will \"clean\" the data set\n",
    "3. We will run preliminary tables and graphs from the data\n",
    "4. We may test a few models\n",
    "\n",
    "This is as much as lesson in python for data analysis and data science as this is a real world application in generating insights from web distributed administrative data sets."
   ]
  },
  {
   "cell_type": "code",
   "execution_count": 73,
   "metadata": {},
   "outputs": [],
   "source": [
    "# we will load the following modules\n",
    "import pandas as pd\n",
    "import numpy as np\n",
    "import matplotlib.pyplot as plt\n",
    "import seaborn\n",
    "from dfply import *\n",
    "from dplython import *"
   ]
  },
  {
   "cell_type": "code",
   "execution_count": 9,
   "metadata": {},
   "outputs": [],
   "source": [
    "# Now read the data kept in who_env folder\n",
    "whodata = pd.read_csv(\"who_env/who_env.csv\", header = 1)"
   ]
  },
  {
   "cell_type": "code",
   "execution_count": 89,
   "metadata": {},
   "outputs": [],
   "source": [
    "# Generate a head view of the whodata\n",
    "#whodata.head()\n",
    "whodata_final = whodata.iloc[:, [0,7,8,9,10]]\n",
    "\n",
    "whodata_final.index.names = ['']\n",
    "whodata_final = whodata_final.iloc[:, 0:]\n",
    "whodata_final.columns = ['country', 'infectious', 'noncom', 'injuries', 'total']\n",
    "whofinal = whodata_final.head()\n",
    "whofinal.to_csv(\"whofinal.csv\")"
   ]
  },
  {
   "cell_type": "code",
   "execution_count": 90,
   "metadata": {},
   "outputs": [],
   "source": [
    "%%bash\n",
    "cp whofinal.csv who_env/"
   ]
  },
  {
   "cell_type": "code",
   "execution_count": 91,
   "metadata": {},
   "outputs": [
    {
     "name": "stdout",
     "output_type": "stream",
     "text": [
      "caption.html\n",
      "config.yml\n",
      "who_env.csv\n",
      "whofinal.csv\n"
     ]
    }
   ],
   "source": [
    "%%bash\n",
    "cd who_env\n",
    "ls"
   ]
  },
  {
   "cell_type": "code",
   "execution_count": null,
   "metadata": {},
   "outputs": [],
   "source": []
  }
 ],
 "metadata": {
  "kernelspec": {
   "display_name": "Python 3",
   "language": "python",
   "name": "python3"
  },
  "language_info": {
   "codemirror_mode": {
    "name": "ipython",
    "version": 3
   },
   "file_extension": ".py",
   "mimetype": "text/x-python",
   "name": "python",
   "nbconvert_exporter": "python",
   "pygments_lexer": "ipython3",
   "version": "3.6.3"
  }
 },
 "nbformat": 4,
 "nbformat_minor": 2
}
