{
 "cells": [
  {
   "cell_type": "markdown",
   "metadata": {},
   "source": [
    "## Let's do data analysis\n",
    "\n",
    "In this notebook, we will do data analyses of the WHO data on environmental causes of diseases. We will specifically use a python environment to do the following:\n",
    "\n",
    "1. We will read a data set that the World Health Organisation put up on the web\n",
    "2. we will \"clean\" the data set\n",
    "3. We will run preliminary tables and graphs from the data\n",
    "4. We may test a few models\n",
    "\n",
    "This is as much as lesson in python for data analysis and data science as this is a real world application in generating insights from web distributed administrative data sets."
   ]
  },
  {
   "cell_type": "code",
   "execution_count": 73,
   "metadata": {},
   "outputs": [],
   "source": [
    "# we will load the following modules\n",
    "import pandas as pd\n",
    "import numpy as np\n",
    "import matplotlib.pyplot as plt\n",
    "import seaborn\n",
    "from dfply import *\n",
    "from dplython import *"
   ]
  },
  {
   "cell_type": "code",
   "execution_count": 9,
   "metadata": {},
   "outputs": [],
   "source": [
    "# Now read the data kept in who_env folder\n",
    "whodata = pd.read_csv(\"who_env/who_env.csv\", header = 1)"
   ]
  },
  {
   "cell_type": "code",
   "execution_count": 89,
   "metadata": {},
   "outputs": [],
   "source": [
    "# Generate a head view of the whodata\n",
    "#whodata.head()\n",
    "whodata_final = whodata.iloc[:, [0,7,8,9,10]]\n",
    "\n",
    "whodata_final.index.names = ['']\n",
    "whodata_final = whodata_final.iloc[:, 0:]\n",
    "whodata_final.columns = ['country', 'infectious', 'noncom', 'injuries', 'total']\n",
    "whofinal = whodata_final.head()\n",
    "whofinal.to_csv(\"whofinal.csv\")"
   ]
  },
  {
   "cell_type": "code",
   "execution_count": 90,
   "metadata": {},
   "outputs": [],
   "source": [
    "%%bash\n",
    "cp whofinal.csv who_env/"
   ]
  },
  {
   "cell_type": "markdown",
   "metadata": {},
   "source": [
    "If we then copy the whofinal.csv to the who_env folder and change the config.yml file to reflect that this is the file we want to host as the table file, and then git the changes back to Authorea, it will reflect this change. This is how we continue to work on the data file we have and continue to create diagrams and changes and change the configuration of the Authorea documentation. \n",
    "\n",
    "## Let's do some plotting"
   ]
  },
  {
   "cell_type": "code",
   "execution_count": 94,
   "metadata": {},
   "outputs": [
    {
     "data": {
      "image/png": "[encoded data removed]",
      "text/plain": [
       "<matplotlib.figure.Figure at 0x10826fef0>"
      ]
     },
     "metadata": {},
     "output_type": "display_data"
    }
   ],
   "source": [
    "%matplotlib inline\n",
    "\n",
    "death_hist = whodata_final['total'].plot(kind = 'hist')\n",
    "plt.savefig(\"death_hist.jpg\")"
   ]
  },
  {
   "cell_type": "markdown",
   "metadata": {},
   "source": [
    "As can be seen from the graph above, there seems to be a bimodal distribution of the deaths worldwide. In order for this to show up in our document, we will need to:\n",
    "\n",
    "1. Create a new folder within figures titled death_hist\n",
    "2. Push the death_hist.jpg into this folder, and\n",
    "3. Add a caption (that is write something in the caption.html, and\n",
    "4. Edit the config.yml file\n"
   ]
  },
  {
   "cell_type": "code",
   "execution_count": 96,
   "metadata": {},
   "outputs": [],
   "source": [
    "%%bash\n",
    "mkdir death_hist\n",
    "cp death_hist.jpg death_hist/\n",
    "cd death_hist\n",
    "touch config.yml\n",
    "touch caption.html\n"
   ]
  },
  {
   "cell_type": "code",
   "execution_count": null,
   "metadata": {},
   "outputs": [],
   "source": []
  }
 ],
 "metadata": {
  "kernelspec": {
   "display_name": "Python 3",
   "language": "python",
   "name": "python3"
  },
  "language_info": {
   "codemirror_mode": {
    "name": "ipython",
    "version": 3
   },
   "file_extension": ".py",
   "mimetype": "text/x-python",
   "name": "python",
   "nbconvert_exporter": "python",
   "pygments_lexer": "ipython3",
   "version": "3.6.3"
  }
 },
 "nbformat": 4,
 "nbformat_minor": 2
}
